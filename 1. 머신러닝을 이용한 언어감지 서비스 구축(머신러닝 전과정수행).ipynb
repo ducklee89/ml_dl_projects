{
 "cells": [
  {
   "cell_type": "markdown",
   "metadata": {},
   "source": [
    "## 머신러닝을 이용한 언어 감지 서비스 구축\n",
    "\n",
    "### 1. 연구 목표 설정\n",
    "\n",
    "- 유사서비스 : 파파고, 구글 번역\n",
    "- 개요\n",
    "    - 번역 서비스중 언어 감지 파트는 머신러닝의 지도학습법 중 분류를 사용하겠다.\n",
    "    - 알파벳을 사용하는 영어권에서는 알파벳 언어별로 알파벳의 사용 빈도가 다르다.\n",
    "- 조건\n",
    "    - 비 영어권은 개별 방법론(완성형(utf-8), 조합형(euc-kr) 코드를 이용하여 판단) 배제\n",
    "    - 임시값(100byte) 이내 문자열을 배제, 임시값의 임계값은 변경될수 있다.\n",
    "    - 번역서비스는 딥러닝의 RNN을 활용하여 처리하는데 여기서는 배제, 단, 파파고 API를 활용하여 유사하게 구현\n",
    "    - 서비스가 오픈하고 데이터가 축적되면 모델을 갱신(언어는 진화하니까) 모델을 다시 학습하고 교체를 진행하는데 원활하게 수행되겠금 처리(전략). 일단 여기서는 데이터 축적"
   ]
  },
  {
   "cell_type": "markdown",
   "metadata": {},
   "source": [
    "|No|단계|내용|\n",
    "|:---:|:---|:---|\n",
    "|1|연구 목표 설정|- 웹서비스<br>- 사용자가 입력한 텍스트를 에측하여 어떤 언어인지 판독한다(영어권,알파벳 사용국가)<br>- 머신러닝의 지도학습-분류를 사용하겠다<br>- 파이프라인구축, 하이퍼파라미터튜닝을 이용한 최적화 부분은 제외<br>- 정량적인 목표치는 생략(평가배제)<br>- 임시값(100byte) 이내 문자열을 배제<br>- 논문을 통한 주장의 근거를 체크|\n",
    "|2|데이터 획득/수집|- 실전:다양한 텍스트를 수집, 위키피디아, 법률, 소설등등<br>- 구현: 제공데이터를 사용(법령/대본/소설등)|\n",
    "|3|데이터 준비/통찰/전처리|- 알파벳을 제외한 모든 문자 제거(전처리, 정규식)<br>- 텍스트를 알파벳의 출현 빈도로 계산한다(문자계산, 데이터의 수치화)<br>- 데이터는 훈련 데이터(훈련(50), 검증(25))와 테스트 데이터(25)로 나눈다 (훈련:테스트=75:25) 황금비율, 단 바뀔수 있다|\n",
    "|4|데이터 탐색/통찰/시각화|- 논문의 주장을 증명<br>- 영어권 언어별로 알파벳 출현 빈도가 다르다는 명제를 증명/확인<br>- EDA 분석(시각화)를 이용하여 확인. 선형차트, 바차트 등을 활용|\n",
    "|5|데이터 모델링 및 모델 구축|- 알고리즘 선정<br>- 학습데이터/테스트데이터 준비<br>- 학습<br>- 예측<br>- 성능평가(학습법,하위 카테고리 까지 검토 평가)<br>- 파이프라인구축을 통하여 알고리즘 체인을 적용, 최적의 알고리즘 조합을 찾는다<br>- 연구 목표에 도착할때까지 반복|\n",
    "|6|시스템 통합|- 모델 덤프(학습된 알고리즘을 파일로 덤프)<br>- 웹 서비스 구축(flask 간단하게 구성)<br>- 서비스 구축<br>- 모델의 업그레이드를 위한 시스템 추가<br>- 선순화구조를 위한 번역 요청 데이터의 로그처리->배치학습, 온라인 학습등으로 연결되어 완성|"
   ]
  },
  {
   "cell_type": "code",
   "execution_count": null,
   "metadata": {},
   "outputs": [],
   "source": []
  },
  {
   "cell_type": "markdown",
   "metadata": {},
   "source": [
    "### 2. 데이터 획득\n",
    "- 실전:다양한 텍스트를 수집, 위키피디아, 법률, 소설등등\n",
    "    - 라이브러리 : request(get), BS4\n",
    "    - 사이트 : https://언어코드.wikipedia.org/wiki/검색어\n",
    "        - 예) https://en.wikipedia.org/wiki/Bong_Joon-ho\n",
    "- 구현: 제공데이터를 사용(법령/대본/소설등)"
   ]
  },
  {
   "cell_type": "code",
   "execution_count": 1,
   "metadata": {},
   "outputs": [],
   "source": [
    "#  모듈 가져오기\n",
    "import urllib.request as req\n",
    "from bs4 import BeautifulSoup\n"
   ]
  },
  {
   "cell_type": "code",
   "execution_count": 2,
   "metadata": {},
   "outputs": [
    {
     "data": {
      "text/plain": [
       "'https://en.wikipedia.org/wiki/Bong_Joon-ho'"
      ]
     },
     "execution_count": 2,
     "metadata": {},
     "output_type": "execute_result"
    }
   ],
   "source": [
    "# 데이터 획득 사이트 규격화\n",
    "target_site = 'https://{na_code}.wikipedia.org/wiki/{keyword}'.format( na_code='en', keyword='Bong_Joon-ho' )\n",
    "\n",
    "target_site"
   ]
  },
  {
   "cell_type": "code",
   "execution_count": 3,
   "metadata": {},
   "outputs": [],
   "source": [
    "# 요청 및 SOUP 생성(DOM 트리)\n",
    "# html5lib 파서 사용 이유: 대량의 html을 파싱하기 위해 안전성 고려\n",
    "soup = BeautifulSoup( req.urlopen(target_site), 'html5lib' )"
   ]
  },
  {
   "cell_type": "code",
   "execution_count": 4,
   "metadata": {},
   "outputs": [
    {
     "data": {
      "text/plain": [
       "(22, bs4.element.ResultSet)"
      ]
     },
     "execution_count": 4,
     "metadata": {},
     "output_type": "execute_result"
    }
   ],
   "source": [
    "# 데이터 추출\n",
    "# css selector : #mw-content-text p\n",
    "tmp = soup.select('#mw-content-text p')#mw-content-text\n",
    "len(tmp), type(tmp)"
   ]
  },
  {
   "cell_type": "code",
   "execution_count": 5,
   "metadata": {},
   "outputs": [
    {
     "name": "stdout",
     "output_type": "stream",
     "text": [
      "\n",
      "\n",
      "Bong Joon-ho (Korean: 봉준호, Korean pronunciation: [poːŋ tɕuːnho → poːŋdʑunɦo]; born September 14, 1969) is a South Korean film director and screenwriter. He garnered international acclaim for his second feature film Memories of Murder (2003), before achieving commercial success with his subsequent films The Host (2006) and Snowpiercer (2013), both of which are among the highest-grossing films of all time in South Korea.[1] \n",
      "\n",
      "Two of his films have screened in competition at the Cannes Film Festival—Okja, which premiered at the 2017 Cannes Film Festival, and Parasite, which won the Palme d'Or at the 2019 Cannes Film Festival.[2] He became the first Korean director to win the Palme d'Or.[3] Parasite also won Best Foreign Language Film at the 77th Golden Globe Awards, with Bong nominated for Best Director and Best Screenplay for his work.[4]\n",
      "\n",
      "In 2017, Metacritic ranked Bong sixteenth on its list of the 25 best film directors of the 21st century.[5] His films feature timely social themes, genre-mixing, black humor, and sudden mood shifts.[6]\n",
      "\n",
      "Bong Joon-ho was born in Daegu in 1969 and decided to become a filmmaker while in middle school. Bong Joon-ho had a highly intellectual upbringing; his father, Bong Sang-gyun, is a graphic designer and his maternal grandfather, Park Taewon was a noted author, famous for A Day in the Life of Novelist Gubo. His older brother, Joon-soo, is an English literature professor now teaching in Seoul National University, and his older sister, Jee-hee, is a fashion designer. Despite his passion for film, he did not enroll for a theater major in university due to his parents' disagreement. He majored in sociology in Yonsei University in the late 1980s and was a member of the film club there. He was then a fan of Edward Yang, Hou Hsiao-hsien and Shohei Imamura.\n",
      "\n",
      "In the early 1990s, he completed a two-year program at the Korean Academy of Film Arts. While there, he made many 16mm short films. His graduation films Memory Within the Frame and Incoherence were invited to screen at the Vancouver and Hong Kong international film festivals. He also collaborated on several works with his classmates — most notably as cinematographer on the highly acclaimed short 2001 Imagine, directed by his friend Jang Joon-hwan. Aside from cinematography on Hur Jae-young's short A Hat, Bong was also lighting director on an early short Sounds From Heaven and Earth by Choi Equan, and The Love of a Grape Seed.[6]\n",
      "\n",
      "After graduating, he spent the next five years contributing in various capacities to works by other directors. He received a partial screenplay credit on the 1996 omnibus film Seven Reasons Why Beer is Better Than a Lover; both screenplay and assistant director credits on Park Ki-yong's 1997 debut Motel Cactus; and is one of four writers (along with Jang Joon-hwan) credited for the screenplay of Phantom the Submarine (1999).[6]\n",
      "\n",
      "Shortly afterwards, Bong began shooting his first feature Barking Dogs Never Bite under producer Cha Seung-jae, who had overseen the production of both Motel Cactus and Phantom the Submarine.[7] The film, about a low-ranking university lecturer who abducts a neighbor's dog, was shot in the same apartment complex where Bong had lived after getting married.[8] Although now remembered fondly, at the time of its release in February 2000 it did not stir up much interest among audiences. Response from critics was positive but slightly muted. Nonetheless, the film was invited to the competition section of Spain's prestigious San Sebastian International Film Festival, and it would go on to win awards at Slamdance and Hong Kong. Slowly building international word of mouth also helped the film financially — over two years after its local release, the film reached its financial break-even point due to sales to overseas territories.[6]\n",
      "\n",
      "\n",
      "Bong's second film, Memories of Murder, a much larger-scale project, was adapted from a popular stage play centered on a real-life serial killer who terrorized a rural town in the 1980s and was never caught, although South Korean authorities announced in 2019 that they have a suspect identified through DNA evidence. Production of the film was a long and arduous process (the film set a local record for the sheer number of locations it utilized), but with the weather providing unexpected help with some stunning skyscapes, the film wrapped without major problems. It was released in April 2003 and proved an immediate critical and popular success. Enthusiastic word of mouth drove the film to sell over five million tickets (rescuing Cha Seung-jae's production company Sidus from near-bankruptcy), and a string of local honors followed, including Best Picture, Best Director, Best Actor (for Song Kang-ho) and Best Lighting prizes at the 2003 Grand Bell Awards. Although passed over by the Cannes and Venice Film Festivals, the film eventually received its international premiere, again at San Sebastian, where it picked up three awards including Best Director. The film also received an unusually strong critical reception on its release in foreign territories such as France and the U.S.[6]\n",
      "Following this, Bong took some time to contribute short films to two omnibus projects. Influenza is a disturbing 30-minute work acted out entirely in front of real CCTV cameras stationed throughout Seoul. The film, which charts (from a distance, quite literally) a desperate man's turn to violent crime over the space of five years, was commissioned by the Jeonju International Film Festival, together with works by Japanese director Sogo Ishii and Hong Kong-based Yu Lik-wai. Twentidentity, meanwhile, is a 20-part omnibus film made by alumni of the Korean Academy of Film Arts, on the occasion of the school's 20th anniversary. Bong's contribution is Sink & Rise, a whimsical work set alongside the Han River that can be seen as a warmup for the director's third feature.[6]\n",
      "\n",
      "The Host marked a step up in scale in Bong's career, and indeed for the Korean film industry as a whole. The big-budget ($12 million) work centered on a fictional monster that rises up out of the Han River to wreak havoc on the people of Seoul — and on one family in particular. Featuring many of the actors who had appeared in his previous films, the film was the focus of strong audience interest even before it started shooting, but many doubts were raised about whether a Korean production could rise to the challenge of creating a full-fledged, believable digital monster. After initially contacting New Zealand's Weta Digital — the company responsible for the CGI in The Lord of the Rings — scheduling conflicts led Bong to San Francisco-based The Orphanage, who took on the majority of the effects work. After rushing to meet deadlines, the film received a rapturous premiere in the Directors' Fortnight section of the 2006 Cannes Film Festival. Although local audiences were slightly more critical of The Host than attendees at Cannes, the film was nonetheless a major summer hit. With theater owners calling for more and more prints, the film enjoyed South Korea's widest release ever (on over a third of the nation's 1800 screens) and set a new box-office record with 13 million tickets sold. The Host was quickly sold around the world, and US studio Universal bought the remake rights.[6][9]\n",
      "In 2008, Bong along with Michel Gondry and French director Leos Carax, directed a segment of Tokyo!, a triptych feature telling three separate tales of the city. Bong's segment is about a man who has lived for a decade as a \"hikikomori\" — the term used in Japan for people unable to adjust to society who don't leave their homes — and what happens when he falls in love with a pizza delivery girl.[10]\n",
      "\n",
      "Bong's fourth feature film Mother is the story of a doting mother who struggles to save her disabled son from a murder accusation. It premiered in the Un Certain Regard section at 2009 Cannes Film Festival to much acclaim, particularly for actress Kim Hye-ja. Mother repeated its critical success locally and in the international film festival circuit. The film appeared on many film critics' \"best-of\" lists of 2010.[11]\n",
      "\n",
      "In 2011, Bong contributed to 3.11 A Sense of Home, an anthology of films, each 3 minutes 11 seconds in duration, addressing the theme of home. The films were made by 21 filmmakers in response to the devastating earthquake and tsunami which hit the Tohoku region of Japan on March 11, 2011. The film screened on the first anniversary of the disaster.[12] In Bong's short film Iki, a teenage girl finds a toddler, seemingly dead, on a beach.\n",
      "\n",
      "That same year, Bong served as a jury member for the 27th Sundance Film Festival.[13][14] He was also the head of the jury for the Caméra d'Or section of the 2011 Cannes Film Festival,[15][16] and the 2013 Edinburgh International Film Festival.[17]\n",
      "\n",
      "In 2013, Bong released his first English-language film Snowpiercer, based on the graphic novel Le Transperceneige by Jean-Marc Rochette and Jacques Lob,[18][19][20][21][22] and set largely on a futuristic train where those on board are separated according to their social status. Snowpiercer premiered at the Times Square on 29 July 2013 in Seoul, South Korea,[23] before screening at the Deauville American Film Festival as the closing film on 7 September 2013,[24] the Berlin International Film Festival as the part of Berlin's Forum sidebar on 7 February 2014,[25] opening the Los Angeles Film Festival on 11 June 2014,[26] and the Edinburgh International Film Festival on 22 June 2014.[27] Upon release in cinemas, the film was met with near-universal praise and strong ticket sales, both in South Korea and abroad.[28][29] As of April 2014[update], it is the tenth highest-grossing domestic film in South Korea, with 9,350,141 admissions. The film holds the domestic record for the fastest movie (domestic and foreign) to reach four million admissions, which it achieved in its fifth day after premiere, and another record for the highest weekend figure (from Friday to Sunday) for a Korean film, with 2.26 million viewers.[30] In addition to receiving several awards and nominations, Snowpiercer appeared on several critics' lists of the ten best films of 2014.[31]\n",
      "\n",
      "In 2015, Bong's next film Okja was announced.[32] On April 30, 2015, screenwriter Jon Ronson announced on his Twitter account that he was writing the second draft of Bong's screenplay for the film.[33] Darius Khondji joined the film as cinematographer in February 2016.[34] Filming for the project began in April, 2016.[35]\n",
      "\n",
      "In 2017, Bong premiered Okja at the 2017 Cannes Film Festival, where it competed for the Palme d'Or and sparked controversy due to it being produced by Netflix. The film was met with boos, mixed with applause, during a press screening at the film festival, once when the Netflix logo appeared on screen and again during a technical glitch (which got the movie projected in an incorrect aspect ratio for its first seven minutes).[36][37][38] The festival later issued an apology to the filmmakers.[39] However, despite the studio's negative response, the film itself received a four-minute standing ovation following its actual premiere.[40] The film was later released on Netflix on June 28, 2017, and received positive reviews.[41] On the film review aggregator website Rotten Tomatoes, the film has an approval rating of 84% based on 125 reviews, with a weighted average of 7.5/10. The site's critical consensus reads, \"Okja sees Bong Joon-ho continuing to create defiantly eclectic entertainment – and still hitting more than enough of his narrative targets in the midst of a tricky tonal juggling act.\"[42] On Metacritic, the film has a score of 76 out of 100, based on 31 critics, indicating \"generally favorable reviews\".[43] New York Times critic A.O. Scott wrote, \"Okja is a miracle of imagination and technique, and Okja insists, with abundant mischief and absolute sincerity, that she possesses a soul.\"[44]\n",
      "\n",
      "In 2019, Bong directed the full Korean-language film Parasite, a comedy thriller about a poor family that insinuates itself into a wealthy household. The film premiered at the 2019 Cannes Film Festival, where it won the Palme d’Or, becoming the first Korean film to receive the award and the first film to do so with a unanimous vote since 2013's Blue Is the Warmest Colour.[45] It was subsequently selected as the South Korean entry for Best International Feature Film at the 92nd Academy Awards.[46] The film also won the $60,000 Sydney Film Prize at the Sydney Film Festival.[47] At Sydney, Parasite was in competition alongside 11 other features from countries such as North Macedonia, Brazil and Spain, and Australian entrants Mirrah Foulkes's Judy & Punch and Ben Lawrence­’s Hearts and Bones.[48]\n",
      "\n",
      "Parasite was released in South Korea by CJ Entertainment on 30 May 2019, and in the rest of the world by Neon in late-2019. It received widespread critical acclaim and earned $115 million at the worldwide box office, becoming Bong's highest-grossing release.[49] For Parasite, Bong was nominated for Best Director and Best Screenplay at the 77th Golden Globe Awards, with the film itself winning Best Foreign Language Film.[50]\n",
      "\n",
      "Filmography sources: KMDb[51] and IMDb[52]\n",
      "\n",
      " Media related to Bong Joon-ho at Wikimedia Commons\n",
      "\n"
     ]
    }
   ],
   "source": [
    "# p 밑에 있는 모든 텍스트를 리스트에 모아 둔다 => 멤버수가 => 22개\n",
    "\n",
    "for p in soup.select('#mw-content-text p'):\n",
    "    print(p.text)\n",
    "    "
   ]
  },
  {
   "cell_type": "code",
   "execution_count": 6,
   "metadata": {},
   "outputs": [
    {
     "data": {
      "text/plain": [
       "(22,\n",
       " ['\\n',\n",
       "  'Bong Joon-ho (Korean:\\xa0봉준호, Korean pronunciation:\\xa0[poːŋ tɕuːnho → poːŋdʑunɦo]; born September 14, 1969) is a South Korean film director and screenwriter. He garnered international acclaim for his second feature film Memories of Murder (2003), before achieving commercial success with his subsequent films The Host (2006) and Snowpiercer (2013), both of which are among the highest-grossing films of all time in South Korea.[1] \\n'])"
      ]
     },
     "execution_count": 6,
     "metadata": {},
     "output_type": "execute_result"
    }
   ],
   "source": [
    "# 리스트 생성\n",
    "texts = list() #동적 구성\n",
    "for p in tmp:\n",
    "    # 멤버 추가\n",
    "    texts.append(p.text)\n",
    "    #print( type(p.text), p.text )\n",
    "len(texts), texts[:2]"
   ]
  },
  {
   "cell_type": "code",
   "execution_count": 7,
   "metadata": {},
   "outputs": [
    {
     "data": {
      "text/plain": [
       "(22, [' Media related to Bong Joon-ho at Wikimedia Commons\\n'])"
      ]
     },
     "execution_count": 7,
     "metadata": {},
     "output_type": "execute_result"
    }
   ],
   "source": [
    "# 리스트 내포\n",
    "texts = [ p.text for p in tmp ]\n",
    "len(texts), texts[-1:] #맨마지막 행"
   ]
  },
  {
   "cell_type": "code",
   "execution_count": 8,
   "metadata": {},
   "outputs": [
    {
     "data": {
      "text/plain": [
       "(13266,\n",
       " '\\n Bong Joon-ho (Korean:\\xa0봉준호, Korean pronunciation:\\xa0[poːŋ tɕuːnho → poːŋdʑunɦo]; born September 14, 1')"
      ]
     },
     "execution_count": 8,
     "metadata": {},
     "output_type": "execute_result"
    }
   ],
   "source": [
    "# 수집한 데이터를 한개의 텍스트 덩어리로 획득\n",
    "# a = list('helloworld')\n",
    "# ''.join(a)\n",
    "\n",
    "str_txt = ' '.join(texts)\n",
    "len(str_txt), str_txt[:100]"
   ]
  },
  {
   "cell_type": "code",
   "execution_count": 9,
   "metadata": {},
   "outputs": [],
   "source": [
    "# 정규식을 활용하여 알파벳만 남긴다.\n",
    "import re"
   ]
  },
  {
   "cell_type": "code",
   "execution_count": 10,
   "metadata": {},
   "outputs": [],
   "source": [
    "p = re.compile('[^a-zA-Z]*')"
   ]
  },
  {
   "cell_type": "code",
   "execution_count": 11,
   "metadata": {},
   "outputs": [
    {
     "data": {
      "text/plain": [
       "(10215,\n",
       " 'bongjoonhokoreankoreanpronunciationpotunhopodunobornseptemberisasouthkoreanfilmdirectorandscreenwriterhegarneredinternationalacclaimforhissecondfeaturefilmmemoriesofmurderbeforeachievingcommercialsuccesswithhissubsequentfilmsthehostandsnowpiercerbothofwhichareamongthehighestgrossingfilmsofalltimeinsouthkoreatwoofhisfilmshavescreenedincompetitionatthecannesfilmfestivalokjawhichpremieredatthecannesfilmfestivalandparasitewhichwonthepalmedoratthecannesfilmfestivalhebecamethefirstkoreandirectortowinthepalmedorparasitealsowonbestforeignlanguagefilmatthethgoldenglobeawardswithbongnominatedforbestdirectorandbestscreenplayforhisworkinmetacriticrankedbongsixteenthonitslistofthebestfilmdirectorsofthestcenturyhisfilmsfeaturetimelysocialthemesgenremixingblackhumorandsuddenmoodshiftsbongjoonhowasbornindaeguinanddecidedtobecomeafilmmakerwhileinmiddleschoolbongjoonhohadahighlyintellectualupbringinghisfatherbongsanggyunisagraphicdesignerandhismaternalgrandfatherparktaewonwasanotedauthorfamousforadayinthelifeofnovelistgubohisolderbrotherjoonsooisanenglishliteratureprofessornowteachinginseoulnationaluniversityandhisoldersisterjeeheeisafashiondesignerdespitehispassionforfilmhedidnotenrollforatheatermajorinuniversityduetohisparentsdisagreementhemajoredinsociologyinyonseiuniversityinthelatesandwasamemberofthefilmclubtherehewasthenafanofedwardyanghouhsiaohsienandshoheiimamuraintheearlyshecompletedatwoyearprogramatthekoreanacademyoffilmartswhiletherehemademanymmshortfilmshisgraduationfilmsmemorywithintheframeandincoherencewereinvitedtoscreenatthevancouverandhongkonginternationalfilmfestivalshealsocollaboratedonseveralworkswithhisclassmatesmostnotablyascinematographeronthehighlyacclaimedshortimaginedirectedbyhisfriendjangjoonhwanasidefromcinematographyonhurjaeyoungsshortahatbongwasalsolightingdirectoronanearlyshortsoundsfromheavenandearthbychoiequanandtheloveofagrapeseedaftergraduatinghespentthenextfiveyearscontributinginvariouscapacitiestoworksbyotherdirectorshereceivedapartialscreenplaycreditontheomnibusfilmsevenreasonswhybeerisbetterthanaloverbothscreenplayandassistantdirectorcreditsonparkkiyongsdebutmotelcactusandisoneoffourwritersalongwithjangjoonhwancreditedforthescreenplayofphantomthesubmarineshortlyafterwardsbongbeganshootinghisfirstfeaturebarkingdogsneverbiteunderproducerchaseungjaewhohadoverseentheproductionofbothmotelcactusandphantomthesubmarinethefilmaboutalowrankinguniversitylecturerwhoabductsaneighborsdogwasshotinthesameapartmentcomplexwherebonghadlivedaftergettingmarriedalthoughnowrememberedfondlyatthetimeofitsreleaseinfebruaryitdidnotstirupmuchinterestamongaudiencesresponsefromcriticswaspositivebutslightlymutednonethelessthefilmwasinvitedtothecompetitionsectionofspainsprestigioussansebastianinternationalfilmfestivalanditwouldgoontowinawardsatslamdanceandhongkongslowlybuildinginternationalwordofmouthalsohelpedthefilmfinanciallyovertwoyearsafteritslocalreleasethefilmreacheditsfinancialbreakevenpointduetosalestooverseasterritoriesbongssecondfilmmemoriesofmurderamuchlargerscaleprojectwasadaptedfromapopularstageplaycenteredonareallifeserialkillerwhoterrorizedaruraltowninthesandwasnevercaughtalthoughsouthkoreanauthoritiesannouncedinthattheyhaveasuspectidentifiedthroughdnaevidenceproductionofthefilmwasalongandarduousprocessthefilmsetalocalrecordforthesheernumberoflocationsitutilizedbutwiththeweatherprovidingunexpectedhelpwithsomestunningskyscapesthefilmwrappedwithoutmajorproblemsitwasreleasedinaprilandprovedanimmediatecriticalandpopularsuccessenthusiasticwordofmouthdrovethefilmtoselloverfivemillionticketsrescuingchaseungjaesproductioncompanysidusfromnearbankruptcyandastringoflocalhonorsfollowedincludingbestpicturebestdirectorbestactorforsongkanghoandbestlightingprizesatthegrandbellawardsalthoughpassedoverbythecannesandvenicefilmfestivalsthefilmeventuallyreceiveditsinternationalpremiereagainatsansebastianwhereitpickedupthreeawardsincludingbestdirectorthefilmalsoreceivedanunusuallystrongcriticalreceptiononitsreleaseinforeignterritoriessuchasfranceandtheusfollowingthisbongtooksometimetocontributeshortfilmstotwoomnibusprojectsinfluenzaisadisturbingminuteworkactedoutentirelyinfrontofrealcctvcamerasstationedthroughoutseoulthefilmwhichchartsfromadistancequiteliterallyadesperatemansturntoviolentcrimeoverthespaceoffiveyearswascommissionedbythejeonjuinternationalfilmfestivaltogetherwithworksbyjapanesedirectorsogoishiiandhongkongbasedyulikwaitwentidentitymeanwhileisapartomnibusfilmmadebyalumniofthekoreanacademyoffilmartsontheoccasionoftheschoolsthanniversarybongscontributionissinkriseawhimsicalworksetalongsidethehanriverthatcanbeseenasawarmupforthedirectorsthirdfeaturethehostmarkedastepupinscaleinbongscareerandindeedforthekoreanfilmindustryasawholethebigbudgetmillionworkcenteredonafictionalmonsterthatrisesupoutofthehanrivertowreakhavoconthepeopleofseoulandononefamilyinparticularfeaturingmanyoftheactorswhohadappearedinhispreviousfilmsthefilmwasthefocusofstrongaudienceinterestevenbeforeitstartedshootingbutmanydoubtswereraisedaboutwhetherakoreanproductioncouldrisetothechallengeofcreatingafullfledgedbelievabledigitalmonsterafterinitiallycontactingnewzealandswetadigitalthecompanyresponsibleforthecgiinthelordoftheringsschedulingconflictsledbongtosanfranciscobasedtheorphanagewhotookonthemajorityoftheeffectsworkafterrushingtomeetdeadlinesthefilmreceivedarapturouspremiereinthedirectorsfortnightsectionofthecannesfilmfestivalalthoughlocalaudienceswereslightlymorecriticalofthehostthanattendeesatcannesthefilmwasnonethelessamajorsummerhitwiththeaterownerscallingformoreandmoreprintsthefilmenjoyedsouthkoreaswidestreleaseeveronoverathirdofthenationsscreensandsetanewboxofficerecordwithmillionticketssoldthehostwasquicklysoldaroundtheworldandusstudiouniversalboughttheremakerightsinbongalongwithmichelgondryandfrenchdirectorleoscaraxdirectedasegmentoftokyoatriptychfeaturetellingthreeseparatetalesofthecitybongssegmentisaboutamanwhohaslivedforadecadeasahikikomorithetermusedinjapanforpeopleunabletoadjusttosocietywhodontleavetheirhomesandwhathappenswhenhefallsinlovewithapizzadeliverygirlbongsfourthfeaturefilmmotheristhestoryofadotingmotherwhostrugglestosaveherdisabledsonfromamurderaccusationitpremieredintheuncertainregardsectionatcannesfilmfestivaltomuchacclaimparticularlyforactresskimhyejamotherrepeateditscriticalsuccesslocallyandintheinternationalfilmfestivalcircuitthefilmappearedonmanyfilmcriticsbestoflistsofinbongcontributedtoasenseofhomeananthologyoffilmseachminutessecondsindurationaddressingthethemeofhomethefilmsweremadebyfilmmakersinresponsetothedevastatingearthquakeandtsunamiwhichhitthetohokuregionofjapanonmarchthefilmscreenedonthefirstanniversaryofthedisasterinbongsshortfilmikiateenagegirlfindsatoddlerseeminglydeadonabeachthatsameyearbongservedasajurymemberforthethsundancefilmfestivalhewasalsotheheadofthejuryforthecamradorsectionofthecannesfilmfestivalandtheedinburghinternationalfilmfestivalinbongreleasedhisfirstenglishlanguagefilmsnowpiercerbasedonthegraphicnovelletransperceneigebyjeanmarcrochetteandjacqueslobandsetlargelyonafuturistictrainwherethoseonboardareseparatedaccordingtotheirsocialstatussnowpiercerpremieredatthetimessquareonjulyinseoulsouthkoreabeforescreeningatthedeauvilleamericanfilmfestivalastheclosingfilmonseptembertheberlininternationalfilmfestivalasthepartofberlinsforumsidebaronfebruaryopeningthelosangelesfilmfestivalonjuneandtheedinburghinternationalfilmfestivalonjuneuponreleaseincinemasthefilmwasmetwithnearuniversalpraiseandstrongticketsalesbothinsouthkoreaandabroadasofaprilupdateitisthetenthhighestgrossingdomesticfilminsouthkoreawithadmissionsthefilmholdsthedomesticrecordforthefastestmoviedomesticandforeigntoreachfourmillionadmissionswhichitachievedinitsfifthdayafterpremiereandanotherrecordforthehighestweekendfigurefromfridaytosundayforakoreanfilmwithmillionviewersinadditiontoreceivingseveralawardsandnominationssnowpiercerappearedonseveralcriticslistsofthetenbestfilmsofinbongsnextfilmokjawasannouncedonaprilscreenwriterjonronsonannouncedonhistwitteraccountthathewaswritingtheseconddraftofbongsscreenplayforthefilmdariuskhondjijoinedthefilmascinematographerinfebruaryfilmingfortheprojectbeganinaprilinbongpremieredokjaatthecannesfilmfestivalwhereitcompetedforthepalmedorandsparkedcontroversyduetoitbeingproducedbynetflixthefilmwasmetwithboosmixedwithapplauseduringapressscreeningatthefilmfestivaloncewhenthenetflixlogoappearedonscreenandagainduringatechnicalglitchwhichgotthemovieprojectedinanincorrectaspectratioforitsfirstsevenminutesthefestivallaterissuedanapologytothefilmmakershoweverdespitethestudiosnegativeresponsethefilmitselfreceivedafourminutestandingovationfollowingitsactualpremierethefilmwaslaterreleasedonnetflixonjuneandreceivedpositivereviewsonthefilmreviewaggregatorwebsiterottentomatoesthefilmhasanapprovalratingofbasedonreviewswithaweightedaverageofthesitescriticalconsensusreadsokjaseesbongjoonhocontinuingtocreatedefiantlyeclecticentertainmentandstillhittingmorethanenoughofhisnarrativetargetsinthemidstofatrickytonaljugglingactonmetacriticthefilmhasascoreofoutofbasedoncriticsindicatinggenerallyfavorablereviewsnewyorktimescriticaoscottwroteokjaisamiracleofimaginationandtechniqueandokjainsistswithabundantmischiefandabsolutesinceritythatshepossessesasoulinbongdirectedthefullkoreanlanguagefilmparasiteacomedythrilleraboutapoorfamilythatinsinuatesitselfintoawealthyhouseholdthefilmpremieredatthecannesfilmfestivalwhereitwonthepalmedorbecomingthefirstkoreanfilmtoreceivetheawardandthefirstfilmtodosowithaunanimousvotesincesblueisthewarmestcolouritwassubsequentlyselectedasthesouthkoreanentryforbestinternationalfeaturefilmatthendacademyawardsthefilmalsowonthesydneyfilmprizeatthesydneyfilmfestivalatsydneyparasitewasincompetitionalongsideotherfeaturesfromcountriessuchasnorthmacedoniabrazilandspainandaustralianentrantsmirrahfoulkessjudypunchandbenlawrencesheartsandbonesparasitewasreleasedinsouthkoreabycjentertainmentonmayandintherestoftheworldbyneoninlateitreceivedwidespreadcriticalacclaimandearnedmillionattheworldwideboxofficebecomingbongshighestgrossingreleaseforparasitebongwasnominatedforbestdirectorandbestscreenplayatthethgoldenglobeawardswiththefilmitselfwinningbestforeignlanguagefilmfilmographysourceskmdbandimdbmediarelatedtobongjoonhoatwikimediacommons')"
      ]
     },
     "execution_count": 11,
     "metadata": {},
     "output_type": "execute_result"
    }
   ],
   "source": [
    "tmp = p.sub( '' , str_txt )\n",
    "#전부 소문자로 처리\n",
    "len(tmp), tmp.lower()"
   ]
  },
  {
   "cell_type": "code",
   "execution_count": null,
   "metadata": {},
   "outputs": [],
   "source": []
  },
  {
   "cell_type": "code",
   "execution_count": null,
   "metadata": {},
   "outputs": [],
   "source": []
  },
  {
   "cell_type": "code",
   "execution_count": null,
   "metadata": {},
   "outputs": [],
   "source": []
  },
  {
   "cell_type": "markdown",
   "metadata": {},
   "source": [
    "### 3. 데이터 준비\n",
    "- 알파벳을 제외한 모든 문자 제거(전처리, 정규식)\n",
    "    - 편의상 앞단계에서 같이 병행 처리했다.\n",
    "    - 제공 데이터에서는 여기서 실제 처리하겠다.\n",
    "- 텍스트를 알파벳의 출현 빈도로 계산한다(문자계산, 데이터의 수치화)\n",
    "- 데이터는 훈련 데이터(훈련(50), 검증(25))와 테스트 데이터(25)로 나눈다 (훈련:테스트=75:25) 황금비율, 단 바뀔수 있다"
   ]
  },
  {
   "cell_type": "code",
   "execution_count": 12,
   "metadata": {},
   "outputs": [],
   "source": [
    "# 데이터를 다 읽어 들인다 => 파일 목록이 필요\n",
    "# glob 특정 패턴을 부여해서 특정 위치의 파일 목록을 가져온다.\n",
    "import os.path, glob\n"
   ]
  },
  {
   "cell_type": "code",
   "execution_count": 13,
   "metadata": {},
   "outputs": [
    {
     "data": {
      "text/plain": [
       "(20, list, ['./data/train\\\\en-1.txt', './data/train\\\\en-2.txt'])"
      ]
     },
     "execution_count": 13,
     "metadata": {},
     "output_type": "execute_result"
    }
   ],
   "source": [
    "file_list = glob.glob( './data/train/*.txt')\n",
    "len(file_list), type(file_list), file_list[:2]"
   ]
  },
  {
   "cell_type": "code",
   "execution_count": 14,
   "metadata": {},
   "outputs": [
    {
     "data": {
      "text/plain": [
       "'./data/train\\\\en-1.txt'"
      ]
     },
     "execution_count": 14,
     "metadata": {},
     "output_type": "execute_result"
    }
   ],
   "source": [
    "# 파일을 읽어서 알파벳별 빈도계산, 그런 데이터가 en 혹은 fr등 이 데이터가 어떤 언어인지\n",
    "# (레이블, 정답)까지 데이터화 한다.\n",
    "# 1. 파일명 획득\n",
    "fName = file_list[0]\n",
    "fName"
   ]
  },
  {
   "cell_type": "code",
   "execution_count": 15,
   "metadata": {},
   "outputs": [
    {
     "data": {
      "text/plain": [
       "'en-1.txt'"
      ]
     },
     "execution_count": 15,
     "metadata": {},
     "output_type": "execute_result"
    }
   ],
   "source": [
    "#2. 파일명 획득\n",
    "name = os.path.basename( fName )\n",
    "name"
   ]
  },
  {
   "cell_type": "code",
   "execution_count": 16,
   "metadata": {},
   "outputs": [
    {
     "data": {
      "text/plain": [
       "'en'"
      ]
     },
     "execution_count": 16,
     "metadata": {},
     "output_type": "execute_result"
    }
   ],
   "source": [
    "#3. 파일명에는 정답(레이블)이 들어 있다. 이것을 추출\n",
    "# 확장성을 고려하여 정규식으로 처리\n",
    "\n",
    "p = re.compile('^[a-z]{2,}')\n",
    "if p.match( name ):\n",
    "    lang = p.match( name ).group()\n",
    "    p.match( name ).group()\n",
    "else:\n",
    "    print('일치하지 않음')\n",
    "lang"
   ]
  },
  {
   "cell_type": "code",
   "execution_count": 19,
   "metadata": {},
   "outputs": [
    {
     "data": {
      "text/plain": [
       "['./data/train\\\\en-1.txt',\n",
       " './data/train\\\\en-2.txt',\n",
       " './data/train\\\\en-3.txt',\n",
       " './data/train\\\\en-4.txt',\n",
       " './data/train\\\\en-5.txt',\n",
       " './data/train\\\\fr-10.txt',\n",
       " './data/train\\\\fr-6.txt',\n",
       " './data/train\\\\fr-7.txt',\n",
       " './data/train\\\\fr-8.txt',\n",
       " './data/train\\\\fr-9.txt',\n",
       " './data/train\\\\id-11.txt',\n",
       " './data/train\\\\id-12.txt',\n",
       " './data/train\\\\id-13.txt',\n",
       " './data/train\\\\id-14.txt',\n",
       " './data/train\\\\id-15.txt',\n",
       " './data/train\\\\tl-16.txt',\n",
       " './data/train\\\\tl-17.txt',\n",
       " './data/train\\\\tl-18.txt',\n",
       " './data/train\\\\tl-19.txt',\n",
       " './data/train\\\\tl-20.txt']"
      ]
     },
     "execution_count": 19,
     "metadata": {},
     "output_type": "execute_result"
    }
   ],
   "source": [
    "file_list"
   ]
  },
  {
   "cell_type": "code",
   "execution_count": 18,
   "metadata": {},
   "outputs": [],
   "source": [
    "# 4. 알파벳 빈도 계산\n",
    "# 4-1. 파일을 읽는다\n",
    "# 4-2. 알파벳만 남긴다(정규식으로 전처리)\n",
    "# 4-3. 소문자로 처리\n",
    "# 4-4. 알파벳 별로 카운트 계산=>효율적인 로직, 방법이 필요"
   ]
  },
  {
   "cell_type": "code",
   "execution_count": 20,
   "metadata": {},
   "outputs": [
    {
     "data": {
      "text/plain": [
       "(8,\n",
       " list,\n",
       " ['./data/test\\\\en-1.txt',\n",
       "  './data/test\\\\en-2.txt',\n",
       "  './data/test\\\\fr-3.txt',\n",
       "  './data/test\\\\fr-4.txt',\n",
       "  './data/test\\\\id-5.txt'])"
      ]
     },
     "execution_count": 20,
     "metadata": {},
     "output_type": "execute_result"
    }
   ],
   "source": [
    "file_list1 = glob.glob( './data/test/*.txt')\n",
    "len(file_list1), type(file_list1), file_list1[:5]"
   ]
  },
  {
   "cell_type": "code",
   "execution_count": null,
   "metadata": {},
   "outputs": [],
   "source": []
  },
  {
   "cell_type": "code",
   "execution_count": null,
   "metadata": {},
   "outputs": [],
   "source": []
  },
  {
   "cell_type": "markdown",
   "metadata": {},
   "source": [
    "### 4. 데이터 탐색"
   ]
  },
  {
   "cell_type": "code",
   "execution_count": null,
   "metadata": {},
   "outputs": [],
   "source": []
  },
  {
   "cell_type": "markdown",
   "metadata": {},
   "source": []
  },
  {
   "cell_type": "code",
   "execution_count": null,
   "metadata": {},
   "outputs": [],
   "source": []
  },
  {
   "cell_type": "markdown",
   "metadata": {},
   "source": [
    "### 6. 시스템 통합"
   ]
  },
  {
   "cell_type": "code",
   "execution_count": null,
   "metadata": {},
   "outputs": [],
   "source": []
  }
 ],
 "metadata": {
  "kernelspec": {
   "display_name": "Python 3",
   "language": "python",
   "name": "python3"
  },
  "language_info": {
   "codemirror_mode": {
    "name": "ipython",
    "version": 3
   },
   "file_extension": ".py",
   "mimetype": "text/x-python",
   "name": "python",
   "nbconvert_exporter": "python",
   "pygments_lexer": "ipython3",
   "version": "3.7.4"
  }
 },
 "nbformat": 4,
 "nbformat_minor": 2
}
